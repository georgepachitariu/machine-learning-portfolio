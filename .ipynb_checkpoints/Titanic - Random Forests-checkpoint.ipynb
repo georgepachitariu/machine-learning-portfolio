{
 "cells": [
  {
   "cell_type": "markdown",
   "metadata": {
    "collapsed": false
   },
   "source": [
    "# Titanic: Machine Learning from Disaster\n",
    "\n",
    "### To predict the survival of the passengers\n",
    "\n",
    "This script uses a dataset that was taken from kaggle.com from the competition [Titanic: Machine Learning from Disaster](https://www.kaggle.com/c/titanic/data) :\n",
    "\n",
    "\n",
    "Variable descriptions of the data:\n",
    "\n",
    "| Column      | Description  |\n",
    "|-------------|---|\n",
    "|  survival   | Survival (0 = No; 1 = Yes)  |\n",
    "|  pclass     |  Passenger Class (1 = 1st; 2 = 2nd; 3 = 3rd)|\n",
    "|  name       |  Name |\n",
    "|  sex        |  Sex |\n",
    "|  age        |  Age |\n",
    "|  sibsp      | Number of Siblings/Spouses Aboard  |\n",
    "|  parch      | Number of Parents/Children Aboard  |\n",
    "|  ticket     | Ticket Number  |\n",
    "|  fare       | Passenger Fare  |\n",
    "|  cabin      |  Cabin  |\n",
    "|  embarked   | Port of Embarkation (C=Cherbourg; Q=Queenstown; S=Southampton)|\n",
    "\n",
    "Special notes:     \n",
    "\n",
    "**Pclass** is a proxy for socio-economic status (SES) :\n",
    " * 1st ~ Upper; \n",
    " * 2nd ~ Middle; \n",
    " * 3rd ~ Lower\n",
    "\n",
    "**Age** is in Years; Fractional if Age less than One (1). If the Age is Estimated, it is in the form xx.5\n",
    "\n",
    "With respect to the family relation variables (i.e. sibsp and parch) some relations were ignored.  The following are the definitions used for sibsp and parch.\n",
    "\n",
    "**Sibling**:  Brother, Sister, Stepbrother, or Stepsister of Passenger Aboard Titanic\n",
    "\n",
    "**Spouse**:   Husband or Wife of Passenger Aboard Titanic (Mistresses and Fiances Ignored)\n",
    "\n",
    "**Parent**:   Mother or Father of Passenger Aboard Titanic\n",
    "\n",
    "**Child**:    Son, Daughter, Stepson, or Stepdaughter of Passenger Aboard Titanic\n",
    "\n",
    "Other family relatives excluded from this study include cousins, nephews/nieces, aunts/uncles, and in-laws.  Some children travelled only with a nanny, therefore parch=0 for them.  As well, some travelled with very close friends or neighbors in a village, however, the definitions do not support such relations."
   ]
  },
  {
   "cell_type": "code",
   "execution_count": 1,
   "metadata": {
    "collapsed": false
   },
   "outputs": [
    {
     "data": {
      "text/html": [
       "<div>\n",
       "<table border=\"1\" class=\"dataframe\">\n",
       "  <thead>\n",
       "    <tr style=\"text-align: right;\">\n",
       "      <th></th>\n",
       "      <th>PassengerId</th>\n",
       "      <th>Survived</th>\n",
       "      <th>Pclass</th>\n",
       "      <th>Name</th>\n",
       "      <th>Sex</th>\n",
       "      <th>Age</th>\n",
       "      <th>SibSp</th>\n",
       "      <th>Parch</th>\n",
       "      <th>Ticket</th>\n",
       "      <th>Fare</th>\n",
       "      <th>Cabin</th>\n",
       "      <th>Embarked</th>\n",
       "    </tr>\n",
       "  </thead>\n",
       "  <tbody>\n",
       "    <tr>\n",
       "      <th>0</th>\n",
       "      <td>1</td>\n",
       "      <td>0</td>\n",
       "      <td>3</td>\n",
       "      <td>Braund, Mr. Owen Harris</td>\n",
       "      <td>male</td>\n",
       "      <td>22.0</td>\n",
       "      <td>1</td>\n",
       "      <td>0</td>\n",
       "      <td>A/5 21171</td>\n",
       "      <td>7.2500</td>\n",
       "      <td>NaN</td>\n",
       "      <td>S</td>\n",
       "    </tr>\n",
       "    <tr>\n",
       "      <th>1</th>\n",
       "      <td>2</td>\n",
       "      <td>1</td>\n",
       "      <td>1</td>\n",
       "      <td>Cumings, Mrs. John Bradley (Florence Briggs Th...</td>\n",
       "      <td>female</td>\n",
       "      <td>38.0</td>\n",
       "      <td>1</td>\n",
       "      <td>0</td>\n",
       "      <td>PC 17599</td>\n",
       "      <td>71.2833</td>\n",
       "      <td>C85</td>\n",
       "      <td>C</td>\n",
       "    </tr>\n",
       "    <tr>\n",
       "      <th>2</th>\n",
       "      <td>3</td>\n",
       "      <td>1</td>\n",
       "      <td>3</td>\n",
       "      <td>Heikkinen, Miss. Laina</td>\n",
       "      <td>female</td>\n",
       "      <td>26.0</td>\n",
       "      <td>0</td>\n",
       "      <td>0</td>\n",
       "      <td>STON/O2. 3101282</td>\n",
       "      <td>7.9250</td>\n",
       "      <td>NaN</td>\n",
       "      <td>S</td>\n",
       "    </tr>\n",
       "  </tbody>\n",
       "</table>\n",
       "</div>"
      ],
      "text/plain": [
       "   PassengerId  Survived  Pclass  \\\n",
       "0            1         0       3   \n",
       "1            2         1       1   \n",
       "2            3         1       3   \n",
       "\n",
       "                                                Name     Sex   Age  SibSp  \\\n",
       "0                            Braund, Mr. Owen Harris    male  22.0      1   \n",
       "1  Cumings, Mrs. John Bradley (Florence Briggs Th...  female  38.0      1   \n",
       "2                             Heikkinen, Miss. Laina  female  26.0      0   \n",
       "\n",
       "   Parch            Ticket     Fare Cabin Embarked  \n",
       "0      0         A/5 21171   7.2500   NaN        S  \n",
       "1      0          PC 17599  71.2833   C85        C  \n",
       "2      0  STON/O2. 3101282   7.9250   NaN        S  "
      ]
     },
     "execution_count": 1,
     "metadata": {},
     "output_type": "execute_result"
    }
   ],
   "source": [
    "import pandas as pd\n",
    "\n",
    "train_data=pd.read_csv('Titanic/train.csv')\n",
    "test_data=pd.read_csv('Titanic/test.csv')\n",
    "\n",
    "train_data[:3]"
   ]
  },
  {
   "cell_type": "markdown",
   "metadata": {},
   "source": [
    "## 1. Filling the values that are not available "
   ]
  },
  {
   "cell_type": "code",
   "execution_count": 2,
   "metadata": {
    "collapsed": false
   },
   "outputs": [],
   "source": [
    "import numpy as np\n",
    "from pandas import DataFrame\n",
    "\n",
    "\n",
    "def my_fillna(df):\n",
    "    df['Cabin']=df['Cabin'].fillna('/')\n",
    "    \n",
    "    # 2 cases\n",
    "    df['Embarked']=df['Embarked'].fillna('/')\n",
    "    \n",
    "    # it's only one case\n",
    "    df['Fare']=df['Fare'].fillna( df['Fare'].median() )\n",
    "    \n",
    "    df['Parch']=df['Parch'].fillna( 0 )\n",
    "    df['SibSp']=df['SibSp'].fillna( 0 )\n",
    "    \n",
    "my_fillna(train_data)    \n",
    "my_fillna(test_data)"
   ]
  },
  {
   "cell_type": "markdown",
   "metadata": {},
   "source": [
    "## 2. Splitting complex columns to separate different information\n",
    "\n",
    "For example, I can split the column **Cabin** (ex 'C85') into 'Cabin letter' -which is the deck- ('C') and the 'Room number' ('85')\n",
    " "
   ]
  },
  {
   "cell_type": "code",
   "execution_count": 3,
   "metadata": {
    "collapsed": false
   },
   "outputs": [],
   "source": [
    "def getCabinNumber(s):\n",
    "    x= s.split(' ')[0][1:]\n",
    "    if(len(x) ==0):\n",
    "        return 0\n",
    "    else:\n",
    "        return int(x)\n",
    "\n",
    "def getFirstChar(s):\n",
    "    return s[0] if(len(s)>0) else '/'\n",
    "\n",
    "def splitColumns(df):    \n",
    "    df['CabinLetter']=df['Cabin'].apply(lambda s: getFirstChar(s))\n",
    "    df['CabinNumber']=df['Cabin'].apply(lambda x: getCabinNumber(x))\n",
    "    # there can be multiple cabins under a single name\n",
    "    # TODO find better ways of extracting features\n",
    "    df['NrCabins']=df['Cabin'].apply(lambda x: 0 if(x=='/') else len(x.split(' ')))\n",
    "    \n",
    "    df['Apelative']=df['Name'].apply(lambda x : x.split(' ')[1])\n",
    "    df['LastName']=df['Name'].apply(lambda x : x.split(',')[0])    \n",
    "    df['FirstName']=df['Name'].apply(lambda x : x.split(' ')[2])\n",
    "    \n",
    "    df['TicketSeria']=df['Ticket'].apply(lambda x: \n",
    "                                         hash(x.split(' ')[0]) if(' ' in x) else -1)\n",
    "    \n",
    "splitColumns(train_data)\n",
    "splitColumns(test_data) "
   ]
  },
  {
   "cell_type": "markdown",
   "metadata": {},
   "source": [
    "### 3. Converting strings to numbers "
   ]
  },
  {
   "cell_type": "code",
   "execution_count": 4,
   "metadata": {
    "collapsed": false
   },
   "outputs": [],
   "source": [
    "def getSex(s):\n",
    "    if(s == \"male\"): return 1\n",
    "    else:\n",
    "        if(s == \"female\"): return 0\n",
    "        else: return 2 #unknown\n",
    "\n",
    "def convertData(df):\n",
    "    df['CabinLetter']=hash(df['CabinLetter'].to_string())\n",
    "    #df['CabinNumber']=ord(df['CabinNumber'][0])\n",
    "    df['Apelative']=hash(df['Apelative'].to_string())\n",
    "    df['LastName']=hash(df['LastName'].to_string())    \n",
    "    df['FirstName']=hash(df['FirstName'].to_string())\n",
    "    df['Embarked']=hash(df['Embarked'].to_string())\n",
    "    df['Sex']=df['Sex'].apply(lambda s: getSex(s))\n",
    "\n",
    "convertData(train_data)\n",
    "convertData(test_data)    "
   ]
  },
  {
   "cell_type": "markdown",
   "metadata": {},
   "source": [
    "## 4. Inferring Age column\n",
    "\n",
    "A lot of age values are missing (177 from 891 values). Since age is an important feature for determining the fate of a passenger (children and women had priority for the rescue boats) I will try to predict the missing ages."
   ]
  },
  {
   "cell_type": "code",
   "execution_count": 5,
   "metadata": {
    "collapsed": false
   },
   "outputs": [
    {
     "name": "stdout",
     "output_type": "stream",
     "text": [
      "Cost function is Least-Squares\n",
      "Using random forest gressor: 13029.9280781\n",
      "Using the mean value: 15144.1792651\n"
     ]
    }
   ],
   "source": [
    "from sklearn.model_selection import KFold\n",
    "from sklearn.ensemble import RandomForestRegressor\n",
    "\n",
    "def getAllAgeFeatures(df):\n",
    "    return df[['Parch', 'SibSp']]\n",
    "    \n",
    "# ~700 rows\n",
    "labeled_data = train_data[ train_data['Age'].notnull() ]\n",
    "\n",
    "nr=10    \n",
    "rf_sum=0\n",
    "mean_sum=0\n",
    "kf = KFold(n_splits=nr)\n",
    "for train_index, test_index in kf.split(labeled_data):\n",
    "\n",
    "    x_train=getAllAgeFeatures(labeled_data.iloc[train_index])\n",
    "    x_test=getAllAgeFeatures(labeled_data.iloc[test_index])\n",
    "  \n",
    "    y_train=labeled_data.iloc[train_index]['Age']\n",
    "    y_test=labeled_data.iloc[test_index]['Age']\n",
    "    \n",
    "    model = RandomForestRegressor().fit(x_train, y_train)\n",
    "    \n",
    "    predicted_age=model.predict(x_test)\n",
    "    rf_sum=rf_sum + ((predicted_age - y_test)**2).sum()\n",
    "    \n",
    "    mean=labeled_data.iloc[train_index]['Age'].mean()\n",
    "    mean_sum=mean_sum + ((mean - y_test)**2).sum()\n",
    "\n",
    "    \n",
    "print 'Cost function is Least-Squares'     \n",
    "print 'Using random forest gressor: '+str(rf_sum/nr)    \n",
    "print 'Using the mean value: '+str(mean_sum/nr)"
   ]
  },
  {
   "cell_type": "code",
   "execution_count": 6,
   "metadata": {
    "collapsed": false
   },
   "outputs": [],
   "source": [
    "def predict_age(df):\n",
    "    \n",
    "    labeled_data = df[ df['Age'].notnull() ]    \n",
    "    \n",
    "    unlabeled_i=df['Age'].isnull()\n",
    "    unlabeled_data = df[ unlabeled_i ]\n",
    "    \n",
    "    x_train=getAllAgeFeatures(labeled_data)\n",
    "    y_train=labeled_data['Age']\n",
    "\n",
    "    model = RandomForestRegressor().fit(x_train, y_train)\n",
    "\n",
    "    df.loc[unlabeled_i, 'Age']=model.predict(getAllAgeFeatures(unlabeled_data))\n",
    "    \n",
    "predict_age(train_data)\n",
    "predict_age(test_data)"
   ]
  },
  {
   "cell_type": "markdown",
   "metadata": {},
   "source": [
    "## 5. Random Forest"
   ]
  },
  {
   "cell_type": "code",
   "execution_count": 7,
   "metadata": {
    "collapsed": false,
    "scrolled": false,
    "slideshow": {
     "slide_type": "-"
    }
   },
   "outputs": [
    {
     "name": "stdout",
     "output_type": "stream",
     "text": [
      "Using random forest: successful_predictions/nr_cases: \n",
      "0.799102132435\n"
     ]
    }
   ],
   "source": [
    "from sklearn.ensemble import RandomForestClassifier\n",
    "\n",
    "def get_features():\n",
    "    return [\"Pclass\", \"Fare\", \"Sex\", \"Age\", \"SibSp\", \"Parch\", \"NrCabins\",\"CabinLetter\"]\n",
    "    \n",
    "def get_df_features(df):\n",
    "    return df[get_features()].as_matrix()\n",
    "    \n",
    "def train_model(X, y):\n",
    "    rfc = RandomForestClassifier()\n",
    "    rfc = rfc.fit(X, y)\n",
    "    #print sorted(zip(map(lambda x: round(x, 4), clf.feature_importances_), get_features()), \n",
    "    #         reverse=True)\n",
    "    return rfc\n",
    "    \n",
    "\n",
    "X=get_df_features(train_data)\n",
    "y=train_data['Survived']\n",
    "\n",
    "nr=10\n",
    "cost=0\n",
    "cost_2=0\n",
    "kf = KFold(n_splits=nr)\n",
    "for train_index, test_index in kf.split(X):\n",
    "    \n",
    "    model=train_model(X[train_index], y[train_index])\n",
    "    \n",
    "    predicted=model.predict(X[test_index])    \n",
    "    cost=cost+((predicted - y[test_index])**2).sum()    \n",
    "    \n",
    "print 'Using random forest: successful_predictions/nr_cases: '\n",
    "print str( (len(X) - cost)  / (float)(len(X)) )"
   ]
  },
  {
   "cell_type": "code",
   "execution_count": 8,
   "metadata": {
    "collapsed": false
   },
   "outputs": [
    {
     "name": "stdout",
     "output_type": "stream",
     "text": [
      "Done.\n"
     ]
    }
   ],
   "source": [
    "# train using all the labeled data\n",
    "model = train_model(X, y) \n",
    "\n",
    "output=DataFrame()\n",
    "output['PassengerId']=test_data['PassengerId']\n",
    "output['Survived']=model.predict(get_df_features(test_data))\n",
    "\n",
    "\n",
    "output[['PassengerId', 'Survived']].to_csv(path_or_buf='Titanic/predictions.csv', header=True, index=False)\n",
    "print 'Done.'"
   ]
  }
 ],
 "metadata": {
  "celltoolbar": "Slideshow",
  "kernelspec": {
   "display_name": "Python 2",
   "language": "python",
   "name": "python2"
  },
  "language_info": {
   "codemirror_mode": {
    "name": "ipython",
    "version": 2
   },
   "file_extension": ".py",
   "mimetype": "text/x-python",
   "name": "python",
   "nbconvert_exporter": "python",
   "pygments_lexer": "ipython2",
   "version": "2.7.6"
  }
 },
 "nbformat": 4,
 "nbformat_minor": 1
}

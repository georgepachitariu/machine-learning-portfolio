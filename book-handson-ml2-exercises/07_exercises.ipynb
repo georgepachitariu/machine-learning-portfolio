{
 "cells": [
  {
   "cell_type": "code",
   "execution_count": 15,
   "metadata": {},
   "outputs": [],
   "source": [
    "import numpy as np\n",
    "from sklearn import datasets\n",
    "from sklearn.svm import SVC\n",
    "from sklearn.preprocessing import StandardScaler\n",
    "from sklearn.datasets import fetch_openml\n",
    "from sklearn.ensemble import RandomForestClassifier, ExtraTreesClassifier, VotingClassifier"
   ]
  },
  {
   "cell_type": "code",
   "execution_count": 2,
   "metadata": {},
   "outputs": [],
   "source": [
    "X, y = fetch_openml('mnist_784', version=1, cache=True, return_X_y=True)\n",
    "scaler = StandardScaler()\n",
    "X_scaled = scaler.fit_transform(X)"
   ]
  },
  {
   "cell_type": "code",
   "execution_count": 3,
   "metadata": {},
   "outputs": [],
   "source": [
    "train_x, val_x, test_x = X_scaled[:10000], X_scaled[50000:60000], X_scaled[60000:] # total is 70000\n",
    "train_y, val_y, test_y = y[:10000], y[50000:60000], y[60000:]"
   ]
  },
  {
   "cell_type": "code",
   "execution_count": 21,
   "metadata": {},
   "outputs": [
    {
     "name": "stdout",
     "output_type": "stream",
     "text": [
      "0.9831 0.9467\n"
     ]
    }
   ],
   "source": [
    "svc = SVC(C=1.0, probability=True)\n",
    "svc.fit(train_x, train_y)\n",
    "print(svc.score(train_x, train_y), end=\" \")\n",
    "print(svc.score(val_x,val_y))"
   ]
  },
  {
   "cell_type": "code",
   "execution_count": 5,
   "metadata": {},
   "outputs": [
    {
     "name": "stdout",
     "output_type": "stream",
     "text": [
      "1.0 0.9544\n"
     ]
    }
   ],
   "source": [
    "rfc = RandomForestClassifier(n_estimators=200, max_leaf_nodes=5000, n_jobs=-1)\n",
    "rfc.fit(train_x, train_y)\n",
    "print(rfc.score(train_x, train_y), end=\" \")\n",
    "print(rfc.score(val_x,val_y))"
   ]
  },
  {
   "cell_type": "code",
   "execution_count": 6,
   "metadata": {},
   "outputs": [
    {
     "name": "stdout",
     "output_type": "stream",
     "text": [
      "1.0 0.9596\n"
     ]
    }
   ],
   "source": [
    "etc = ExtraTreesClassifier(n_estimators=200, max_leaf_nodes=5000, n_jobs=-1)\n",
    "etc.fit(train_x, train_y)\n",
    "print(etc.score(train_x, train_y), end=\" \")\n",
    "print(etc.score(val_x,val_y))"
   ]
  },
  {
   "cell_type": "code",
   "execution_count": 7,
   "metadata": {},
   "outputs": [
    {
     "name": "stdout",
     "output_type": "stream",
     "text": [
      "1.0 0.9622\n"
     ]
    }
   ],
   "source": [
    "vclf = VotingClassifier(estimators=[('svc', svc), ('rfc', rfc), ('etc', etc)], voting='soft')\n",
    "vclf.fit(train_x, train_y)\n",
    "print(vclf.score(train_x, train_y), end=\" \")\n",
    "print(vclf.score(val_x,val_y))"
   ]
  },
  {
   "cell_type": "code",
   "execution_count": 8,
   "metadata": {},
   "outputs": [
    {
     "name": "stdout",
     "output_type": "stream",
     "text": [
      "0.9561\n"
     ]
    }
   ],
   "source": [
    "print(vclf.score(test_x,test_y))"
   ]
  },
  {
   "cell_type": "code",
   "execution_count": 18,
   "metadata": {},
   "outputs": [],
   "source": [
    "def predict_first_layer(x):\n",
    "    part1=svc.predict_proba(x)\n",
    "    part2=rfc.predict_proba(x)\n",
    "    part3=etc.predict_proba(x)\n",
    "    return np.concatenate((part1, part2, part3), axis=1)"
   ]
  },
  {
   "cell_type": "code",
   "execution_count": 22,
   "metadata": {},
   "outputs": [
    {
     "name": "stdout",
     "output_type": "stream",
     "text": [
      "0.9682 0.9579\n"
     ]
    }
   ],
   "source": [
    "meta_svc = SVC(C=1.0)\n",
    "meta_svc.fit(predict_first_layer(val_x), val_y)\n",
    "print(meta_svc.score(concat_x, val_y), end=\" \")\n",
    "print(meta_svc.score(predict_first_layer(test_x), test_y))"
   ]
  }
 ],
 "metadata": {
  "kernelspec": {
   "display_name": "Python 3",
   "language": "python",
   "name": "python3"
  },
  "language_info": {
   "codemirror_mode": {
    "name": "ipython",
    "version": 3
   },
   "file_extension": ".py",
   "mimetype": "text/x-python",
   "name": "python",
   "nbconvert_exporter": "python",
   "pygments_lexer": "ipython3",
   "version": "3.7.6"
  }
 },
 "nbformat": 4,
 "nbformat_minor": 4
}

{
 "cells": [
  {
   "cell_type": "code",
   "execution_count": 14,
   "metadata": {},
   "outputs": [
    {
     "data": {
      "text/plain": [
       "array([[ 2.07125455,  0.25183136],\n",
       "       [ 1.3960118 , -1.2022476 ],\n",
       "       [-1.17899216,  0.6440481 ],\n",
       "       ...,\n",
       "       [ 1.53504904, -0.0767426 ],\n",
       "       [ 1.37359227, -1.12989649],\n",
       "       [ 0.39872715,  0.34575446]])"
      ]
     },
     "execution_count": 14,
     "metadata": {},
     "output_type": "execute_result"
    }
   ],
   "source": [
    "# Exercise 7\n",
    "from sklearn.datasets import make_moons\n",
    "X, y = make_moons(n_samples=10000, noise=0.4)\n",
    "X"
   ]
  },
  {
   "cell_type": "code",
   "execution_count": 15,
   "metadata": {},
   "outputs": [],
   "source": [
    "from sklearn.model_selection import train_test_split\n",
    "X_train, X_test, y_train, y_test = train_test_split(X, y, test_size=0.2, random_state=42)"
   ]
  },
  {
   "cell_type": "code",
   "execution_count": 29,
   "metadata": {},
   "outputs": [
    {
     "name": "stdout",
     "output_type": "stream",
     "text": [
      "Fitting 3 folds for each of 240 candidates, totalling 720 fits\n"
     ]
    },
    {
     "name": "stderr",
     "output_type": "stream",
     "text": [
      "[Parallel(n_jobs=-1)]: Using backend LokyBackend with 16 concurrent workers.\n",
      "[Parallel(n_jobs=-1)]: Done   9 tasks      | elapsed:    0.5s\n",
      "[Parallel(n_jobs=-1)]: Done 216 tasks      | elapsed:    0.8s\n"
     ]
    },
    {
     "name": "stdout",
     "output_type": "stream",
     "text": [
      "{'max_depth': 7, 'max_leaf_nodes': 15, 'min_samples_split': 2}\n",
      "train accuracy: 0.8597501362592243\n",
      "test accuracy: 0.843\n"
     ]
    },
    {
     "name": "stderr",
     "output_type": "stream",
     "text": [
      "[Parallel(n_jobs=-1)]: Done 685 tasks      | elapsed:    1.2s\n",
      "[Parallel(n_jobs=-1)]: Done 720 out of 720 | elapsed:    1.2s finished\n"
     ]
    }
   ],
   "source": [
    "from sklearn.model_selection import GridSearchCV\n",
    "from sklearn.tree import DecisionTreeClassifier\n",
    "from sklearn.metrics import accuracy_score\n",
    "\n",
    "param_grid = {'max_depth':[6,7,8,9],\n",
    "              'min_samples_split':[2,3,4],\n",
    "              'max_leaf_nodes':range(10,30)\n",
    "              }\n",
    "\n",
    "# min_samples_split=2, min_samples_leaf=1, \n",
    "# max_features=None, random_state=None, max_leaf_nodes=None, \n",
    "# min_impurity_decrease=0.0, min_impurity_split=None, \n",
    "\n",
    "model = GridSearchCV(estimator=DecisionTreeClassifier(), param_grid=param_grid, \n",
    "             scoring='accuracy', n_jobs=-1, cv=3, refit=True, verbose=2)\n",
    "\n",
    "model.fit(X_train, y_train)\n",
    "print(model.best_params_)\n",
    "\n",
    "print('train accuracy: ' + str(model.best_score_))\n",
    "print('test accuracy: ' + str(accuracy_score(y_test , model.predict(X_test))))"
   ]
  },
  {
   "cell_type": "code",
   "execution_count": 64,
   "metadata": {},
   "outputs": [
    {
     "name": "stdout",
     "output_type": "stream",
     "text": [
      "Average accuracy of the individual scores for each tree: 0.843\n",
      "Accuracy using the mode of all tree predictions together: 0.8565\n"
     ]
    }
   ],
   "source": [
    "# Exercise 8\n",
    "import numpy as np\n",
    "from scipy.stats import mode\n",
    "from sklearn.model_selection import ShuffleSplit\n",
    "n_splits=1000\n",
    "rs = ShuffleSplit(n_splits=n_splits, train_size=100, random_state=42)\n",
    "\n",
    "forest, acc_scores = [], []\n",
    "y_preds = np.zeros((n_splits, X_test.shape[0]))\n",
    "for i, (train_index, _) in enumerate(rs.split(X_train)):\n",
    "    tree = DecisionTreeClassifier(**model.best_params_)\n",
    "    tree.fit(X_train[train_index], y_train[train_index])\n",
    "    forest.append(tree)\n",
    "    y_preds[i, :] = tree.predict(X_test)\n",
    "    acc_scores.append(accuracy_score(y_test , model.predict(X_test)))\n",
    "    \n",
    "print('Average accuracy of the individual scores for each tree: ' + \n",
    "      str(np.average(acc_scores)))\n",
    "\n",
    "mode = mode(y_preds).mode.reshape(-1)\n",
    "print('Accuracy using the mode of all tree predictions together: ' + \n",
    "      str(accuracy_score(y_test , mode)))"
   ]
  }
 ],
 "metadata": {
  "kernelspec": {
   "display_name": "Python 3",
   "language": "python",
   "name": "python3"
  },
  "language_info": {
   "codemirror_mode": {
    "name": "ipython",
    "version": 3
   },
   "file_extension": ".py",
   "mimetype": "text/x-python",
   "name": "python",
   "nbconvert_exporter": "python",
   "pygments_lexer": "ipython3",
   "version": "3.7.6"
  }
 },
 "nbformat": 4,
 "nbformat_minor": 4
}
